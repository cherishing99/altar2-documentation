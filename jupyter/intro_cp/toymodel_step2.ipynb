{
 "cells": [
  {
   "cell_type": "markdown",
   "metadata": {},
   "source": [
    "# **AlTar 2 - a toy model with epistemic uncertainties**\n",
    "\n",
    "# **Step 2 - run AlTar2**\n",
    "\n",
    "This notebook follows the `step 1` notebook in which the input files for **AlTar2** have been prepared.\n",
    "\n",
    "As a reminder, we want to incorporate the epistemic uncertainties in our sampling process. To do so, we have prepared the configuration `test1.pfg` to update $\\mathbf{C}_\\mathrm{p}$ at every step of sampling procedure.\n",
    "Here are the input files for our toy model:\n",
    "- `test1.gf.h5`\n",
    "- `test1d.h5`\n",
    "- `test1.Cd.h5`\n",
    "- `test1.Cov.h5`\n",
    "- `test1.mprior.h5`\n",
    "- `test1.KElastic.h5`\n",
    "\n",
    "The *updated $\\mathbf{C}_\\mathrm{p}$* option currently only works on GPU. Within this notebook, we only have access to CPU. We will then perform the sampling process with a static $\\mathbf{C}_\\mathrm{p}$ incorporated as the misfit covariance matrix $\\mathbf{C}_\\mathrm{\\chi}$. In this case, our input files become:\n",
    "- `test1.gf.h5`\n",
    "- `test1.d.h5`\n",
    "- `test1.Cx.h5`  (sum of $\\mathbf{C}_\\mathrm{d}$ and $\\mathbf{C}_\\mathrm{p}$)\n",
    "\n",
    "In this example, we will:\n",
    "1. Update the configuration file, for use with CPUs\n",
    "2. Run Altar2\n",
    "3. Analyze the results\n",
    "\n",
    "### 1. Update the `test1.pfg` configuration file to `slipmodel.pfg`, for use with CPUs\n",
    "\n",
    "We modify the configuration file for use with CPUs, and with a static $\\mathbf{C}_\\mathrm{p}$.\n",
    "\n",
    "The `slipmodel.pfg` file is:\n",
    "\n",
    "    ;\n",
    "    ; michael a.g. aïvázis\n",
    "    ; orthologue\n",
    "    ; (c) 1998-2019 all rights reserved\n",
    "    ;\n",
    "\n",
    "    ; the application\n",
    "    ; the name should be the same as the AlTar application instance (name='linear')\n",
    "    linear:\n",
    "        ; the model configuration\n",
    "        model:\n",
    "            case = test1\n",
    "            ; the number of free parameters\n",
    "            parameters = 20\n",
    "            ; the number of observations\n",
    "            observations = 300\n",
    "\n",
    "            ; data observations\n",
    "            data = test1.d.h5\n",
    "\n",
    "            ; data covariance/uncertainties\n",
    "            cd = test1.Cx.h5\n",
    "\n",
    "            ; Green's function \n",
    "            green = test1.gf.h5\n",
    "\n",
    "            ; prior distribution for parameters\n",
    "            prep = altar.models.seismic.moment\n",
    "            prep:\n",
    "                support = (0., 20.) ; slip range\n",
    "                Mw_mean = 8.08\n",
    "                Mw_sigma = 0.3\n",
    "                Mu = [30] ; in GPa\n",
    "                area = [250000000.0] ; patch area in m2\n",
    "\n",
    "            prior:\n",
    "                parameters = {linear.model.parameters}\n",
    "                center = 10.\n",
    "                sigma = 3.\n",
    "\n",
    "        ; run configuration\n",
    "        job.tasks = 1 ; number of tasks per host\n",
    "        job.gpus = 0  ; number of gpus per task\n",
    "        job.chains = 2**10 ; number of chains per task\n",
    "\n",
    "\n",
    "    ; end of file"
   ]
  },
  {
   "cell_type": "markdown",
   "metadata": {},
   "source": [
    "### 2. Run **AlTar**\n",
    "\n",
    "We follow the same steps as in the tutorial *An introduction to Altar2 framework - from a Linear Model example*. We will not detail the steps, so please refer to this tutorial for details."
   ]
  },
  {
   "cell_type": "code",
   "execution_count": 1,
   "metadata": {},
   "outputs": [
    {
     "ename": "ModuleNotFoundError",
     "evalue": "No module named 'altar'",
     "output_type": "error",
     "traceback": [
      "\u001b[0;31m---------------------------------------------------------------------------\u001b[0m",
      "\u001b[0;31mModuleNotFoundError\u001b[0m                       Traceback (most recent call last)",
      "\u001b[0;32m<ipython-input-1-a2738e5ef980>\u001b[0m in \u001b[0;36m<module>\u001b[0;34m\u001b[0m\n\u001b[0;32m----> 1\u001b[0;31m \u001b[0;32mimport\u001b[0m \u001b[0maltar\u001b[0m\u001b[0;34m\u001b[0m\u001b[0;34m\u001b[0m\u001b[0m\n\u001b[0m\u001b[1;32m      2\u001b[0m \u001b[0;32mimport\u001b[0m \u001b[0maltar\u001b[0m\u001b[0;34m.\u001b[0m\u001b[0mmodels\u001b[0m\u001b[0;34m.\u001b[0m\u001b[0mlinear\u001b[0m\u001b[0;34m\u001b[0m\u001b[0;34m\u001b[0m\u001b[0m\n\u001b[1;32m      3\u001b[0m \u001b[0;34m\u001b[0m\u001b[0m\n\u001b[1;32m      4\u001b[0m \u001b[0;31m# make a specialized app that uses the linear model by default\u001b[0m\u001b[0;34m\u001b[0m\u001b[0;34m\u001b[0m\u001b[0;34m\u001b[0m\u001b[0m\n\u001b[1;32m      5\u001b[0m \u001b[0;32mclass\u001b[0m \u001b[0mLinearApp\u001b[0m\u001b[0;34m(\u001b[0m\u001b[0maltar\u001b[0m\u001b[0;34m.\u001b[0m\u001b[0mshells\u001b[0m\u001b[0;34m.\u001b[0m\u001b[0maltar\u001b[0m\u001b[0;34m,\u001b[0m \u001b[0mfamily\u001b[0m\u001b[0;34m=\u001b[0m\u001b[0;34m'altar.applications.linear'\u001b[0m\u001b[0;34m)\u001b[0m\u001b[0;34m:\u001b[0m\u001b[0;34m\u001b[0m\u001b[0;34m\u001b[0m\u001b[0m\n",
      "\u001b[0;31mModuleNotFoundError\u001b[0m: No module named 'altar'"
     ]
    }
   ],
   "source": [
    "import altar\n",
    "import altar.models.linear\n",
    "\n",
    "# make a specialized app that uses the linear model by default\n",
    "class LinearApp(altar.shells.altar, family='altar.applications.linear'):\n",
    "    \"\"\"\n",
    "    A specialized AlTar application that exercises the Linear model\n",
    "    \"\"\"\n",
    "    # user configurable component\n",
    "    model = altar.models.model(default='linear')\n",
    "\n",
    "# create an instance\n",
    "myapp = LinearApp(name='linear')\n",
    "# call initialize method to prepare its compone\n",
    "myapp.initialize()\n",
    "# to sample the posterior with CATMIP alogorithm\n",
    "myapp.model.posterior(application=myapp)"
   ]
  },
  {
   "cell_type": "code",
   "execution_count": 2,
   "metadata": {
    "scrolled": true
   },
   "outputs": [
    {
     "ename": "NameError",
     "evalue": "name 'myapp' is not defined",
     "output_type": "error",
     "traceback": [
      "\u001b[0;31m---------------------------------------------------------------------------\u001b[0m",
      "\u001b[0;31mNameError\u001b[0m                                 Traceback (most recent call last)",
      "\u001b[0;32m<ipython-input-2-97ccf2de5b43>\u001b[0m in \u001b[0;36m<module>\u001b[0;34m\u001b[0m\n\u001b[1;32m      1\u001b[0m \u001b[0;31m# to obtain the final step data\u001b[0m\u001b[0;34m\u001b[0m\u001b[0;34m\u001b[0m\u001b[0;34m\u001b[0m\u001b[0m\n\u001b[0;32m----> 2\u001b[0;31m \u001b[0mstep\u001b[0m\u001b[0;34m=\u001b[0m\u001b[0mmyapp\u001b[0m\u001b[0;34m.\u001b[0m\u001b[0mcontroller\u001b[0m\u001b[0;34m.\u001b[0m\u001b[0mworker\u001b[0m\u001b[0;34m.\u001b[0m\u001b[0mstep\u001b[0m\u001b[0;34m\u001b[0m\u001b[0;34m\u001b[0m\u001b[0m\n\u001b[0m\u001b[1;32m      3\u001b[0m \u001b[0mprint\u001b[0m\u001b[0;34m(\u001b[0m\u001b[0;34m'beta ='\u001b[0m\u001b[0;34m,\u001b[0m \u001b[0mstep\u001b[0m\u001b[0;34m.\u001b[0m\u001b[0mbeta\u001b[0m\u001b[0;34m)\u001b[0m\u001b[0;34m\u001b[0m\u001b[0;34m\u001b[0m\u001b[0m\n\u001b[1;32m      4\u001b[0m \u001b[0mprint\u001b[0m\u001b[0;34m(\u001b[0m\u001b[0;34m'samples ='\u001b[0m\u001b[0;34m,\u001b[0m \u001b[0mstep\u001b[0m\u001b[0;34m.\u001b[0m\u001b[0msamples\u001b[0m\u001b[0;34m)\u001b[0m\u001b[0;34m\u001b[0m\u001b[0;34m\u001b[0m\u001b[0m\n\u001b[1;32m      5\u001b[0m \u001b[0mprint\u001b[0m\u001b[0;34m(\u001b[0m\u001b[0;34m'parameters ='\u001b[0m\u001b[0;34m,\u001b[0m \u001b[0mstep\u001b[0m\u001b[0;34m.\u001b[0m\u001b[0mparameters\u001b[0m\u001b[0;34m)\u001b[0m\u001b[0;34m\u001b[0m\u001b[0;34m\u001b[0m\u001b[0m\n",
      "\u001b[0;31mNameError\u001b[0m: name 'myapp' is not defined"
     ]
    }
   ],
   "source": [
    "# to obtain the final step data\n",
    "step=myapp.controller.worker.step\n",
    "print('beta =', step.beta)\n",
    "print('samples =', step.samples)\n",
    "print('parameters =', step.parameters)\n",
    "# to obtain theta matrix dim(samples, parameters)\n",
    "theta = step.theta\n",
    "mean, sd = theta.mean_sd(axis=0) # axis=0 for averaging over samples\n",
    "\n",
    "model = myapp.model\n",
    "data = myapp.data"
   ]
  },
  {
   "cell_type": "markdown",
   "metadata": {},
   "source": [
    "### 3. Analyze the results\n",
    "\n",
    "#### 3.1 Represent the inferred slip\n",
    "\n",
    "We first write a function to represent the mean and standard deviations of the inferred slip models."
   ]
  },
  {
   "cell_type": "code",
   "execution_count": 8,
   "metadata": {},
   "outputs": [],
   "source": [
    "import numpy as np\n",
    "import matplotlib\n",
    "import matplotlib.pyplot as plt\n",
    "import seaborn as sns\n",
    "\n",
    "## Create the colormap\n",
    "color1 = [(218,240,178),(163,219,184),(96,194,192),(47,163,194),(32,120,180),(36,73,158)]\n",
    "color12 = [(218,240,178),(163,219,184),(96,194,192),(47,163,194),(32,120,180)]\n",
    "color2 = [(253,208,162),(253,174,107),(253,141,60),(241,105,19),(217,72,1),(166,54,3)]\n",
    "colornames = list(reversed(color2)) + color1 + list(reversed(color12)) + color2\n",
    "\n",
    "## Function to plot slip\n",
    "def plotSlipBox(moy, std, ns, nd, bounds, **params):\n",
    "    '''\n",
    "    Plot every subfault as a gradient between mean - std and mean + std\n",
    "\n",
    "    IN ARGUMENT:\n",
    "    You need to specify at least 8 arguments:\n",
    "     --> mean\n",
    "     --> standard deviation\n",
    "     --> ns = number of patches in strike\n",
    "     --> nd = number of patches in dip\n",
    "     --> bounds = boudaries for slip\n",
    "    '''\n",
    "        \n",
    "    # define slip steps\n",
    "    x00 = np.linspace(bounds[0],bounds[1],49)\n",
    "\n",
    "    plt.figure(figsize=((ns * 5 / 2) / 1.2, ((nd + 1) * 53.5 / 200) / 1.5))\n",
    "    # colorbar\n",
    "    cmape = colors.LinearSegmentedColormap.from_list('cptslip', [[i / 255 for i in x] for x in colornames])\n",
    "    cmape.set_over('#a63603')\n",
    "    cmape.set_under('#a63603')\n",
    "    cNorm = colors.Normalize(vmin=bounds[0], vmax=bounds[1])\n",
    "    scalarMap = cmx.ScalarMappable(norm=cNorm, cmap=cmape)\n",
    "    scalarMap.set_array([])\n",
    "\n",
    "    # Loop over subfaults\n",
    "    c = 1\n",
    "    l = 0\n",
    "    for i in range(Np // 2):\n",
    "        if i % ns == 0:\n",
    "            # j=ns-1\n",
    "            l = l + 1\n",
    "            c = 1\n",
    "        a = plt.subplot2grid((nd + 2, ns + 1), (l, c), colspan=1, rowspan=1)\n",
    "        # j=j-1\n",
    "        c = c + 1\n",
    "        # plot gradient from mean-std to mean\n",
    "        plt.imshow([np.linspace(moy[i] - std[i] - 0.1, moy[i], 30)],\n",
    "                   cmap=cmape,\n",
    "                   interpolation='bicubic',\n",
    "                   extent=[moy[i] - std[i], moy[i], 0, 3],\n",
    "                   vmin=boundss[0], vmax=boundss[1],\n",
    "                   alpha = 0.75,zorder=3)\n",
    "        # plot gradient from mean to mean+std\n",
    "        plt.imshow([np.linspace(moy[i], moy[i] + std[i] + 0.1, 30)],\n",
    "                   cmap=cmape,\n",
    "                   interpolation='bicubic',\n",
    "                   extent=[moy[i], moy[i]+std[i], 0, 3],\n",
    "                   vmin=boundss[0], vmax=boundss[1],\n",
    "                   alpha = 0.75,zorder=4)\n",
    "        # plot the mean value\n",
    "        colorval = scalarMap.to_rgba(abs(moy[i]))\n",
    "        rectangle = plt.Rectangle((moy[i]-0.5,-0.5), 1.0, 4, fc=colorval,ec=\"white\",lw=0.5,zorder=5)\n",
    "        plt.gca().add_patch(rectangle)\n",
    "        # plot an horizontal line\n",
    "        plt.axhline(y=1.5,linewidth=0.1, color=darklavend,zorder=2)\n",
    "        # add a vertical line to represent the target model\n",
    "        plt.axvline(x=10.,linewidth=0.2, color=darkblue,alpha=0.5,zorder=2)\n",
    "        # ticks aspect\n",
    "        plt.box(False)\n",
    "        a.tick_params(axis=\"both\", which=\"both\", bottom=\"off\", top=\"off\",\n",
    "                      labelbottom=\"off\", left=\"off\", right=\"off\", labelleft=\"off\")\n",
    "        plt.xlim(min(x00)-0.1,max(x00)+0.1)\n",
    "        plt.ylim(-0.5,3.5)\n",
    "    plt.tight_layout(pad=0.05)\n",
    "    plt.show()\n",
    "    return"
   ]
  },
  {
   "cell_type": "code",
   "execution_count": 6,
   "metadata": {},
   "outputs": [
    {
     "ename": "NameError",
     "evalue": "name 'mean' is not defined",
     "output_type": "error",
     "traceback": [
      "\u001b[0;31m---------------------------------------------------------------------------\u001b[0m",
      "\u001b[0;31mNameError\u001b[0m                                 Traceback (most recent call last)",
      "\u001b[0;32m<ipython-input-6-e27f7387fb47>\u001b[0m in \u001b[0;36m<module>\u001b[0;34m\u001b[0m\n\u001b[1;32m      2\u001b[0m \u001b[0mnd\u001b[0m \u001b[0;34m=\u001b[0m \u001b[0;36m20\u001b[0m\u001b[0;34m\u001b[0m\u001b[0;34m\u001b[0m\u001b[0m\n\u001b[1;32m      3\u001b[0m \u001b[0mbounds\u001b[0m \u001b[0;34m=\u001b[0m \u001b[0;34m[\u001b[0m\u001b[0;36m4.\u001b[0m\u001b[0;34m,\u001b[0m\u001b[0;36m16.\u001b[0m\u001b[0;34m]\u001b[0m\u001b[0;34m\u001b[0m\u001b[0;34m\u001b[0m\u001b[0m\n\u001b[0;32m----> 4\u001b[0;31m \u001b[0mplotSlipBox\u001b[0m\u001b[0;34m(\u001b[0m\u001b[0mmean\u001b[0m\u001b[0;34m,\u001b[0m \u001b[0msd\u001b[0m\u001b[0;34m,\u001b[0m \u001b[0mns\u001b[0m\u001b[0;34m,\u001b[0m \u001b[0mnd\u001b[0m\u001b[0;34m,\u001b[0m \u001b[0mbounds\u001b[0m\u001b[0;34m)\u001b[0m\u001b[0;34m\u001b[0m\u001b[0;34m\u001b[0m\u001b[0m\n\u001b[0m",
      "\u001b[0;31mNameError\u001b[0m: name 'mean' is not defined"
     ]
    }
   ],
   "source": [
    "ns = 1\n",
    "nd = 20\n",
    "bounds = [4.,16.]\n",
    "plotSlipBox(mean, sd, ns, nd, bounds)"
   ]
  },
  {
   "cell_type": "markdown",
   "metadata": {},
   "source": [
    "#### 3.2 Represent the fit of the predictions to the observations"
   ]
  },
  {
   "cell_type": "code",
   "execution_count": null,
   "metadata": {},
   "outputs": [],
   "source": [
    "pred = model.green * mean\n",
    "pred_sd = model.green * sd"
   ]
  },
  {
   "cell_type": "code",
   "execution_count": 7,
   "metadata": {},
   "outputs": [
    {
     "ename": "NameError",
     "evalue": "name 'np' is not defined",
     "output_type": "error",
     "traceback": [
      "\u001b[0;31m---------------------------------------------------------------------------\u001b[0m",
      "\u001b[0;31mNameError\u001b[0m                                 Traceback (most recent call last)",
      "\u001b[0;32m<ipython-input-7-18fcbabbd3e0>\u001b[0m in \u001b[0;36m<module>\u001b[0;34m\u001b[0m\n\u001b[0;32m----> 1\u001b[0;31m \u001b[0mx\u001b[0m \u001b[0;34m=\u001b[0m \u001b[0mnp\u001b[0m\u001b[0;34m.\u001b[0m\u001b[0mlinspace\u001b[0m\u001b[0;34m(\u001b[0m\u001b[0;34m-\u001b[0m\u001b[0;36m40000\u001b[0m\u001b[0;34m,\u001b[0m\u001b[0;36m40000\u001b[0m\u001b[0;34m,\u001b[0m\u001b[0;36m100\u001b[0m\u001b[0;34m)\u001b[0m\u001b[0;34m\u001b[0m\u001b[0;34m\u001b[0m\u001b[0m\n\u001b[0m\u001b[1;32m      2\u001b[0m \u001b[0;34m\u001b[0m\u001b[0m\n\u001b[1;32m      3\u001b[0m \u001b[0mfig\u001b[0m\u001b[0;34m=\u001b[0m\u001b[0mplt\u001b[0m\u001b[0;34m.\u001b[0m\u001b[0mfigure\u001b[0m\u001b[0;34m(\u001b[0m\u001b[0mfigsize\u001b[0m\u001b[0;34m=\u001b[0m\u001b[0;34m(\u001b[0m\u001b[0;36m7\u001b[0m\u001b[0;34m,\u001b[0m\u001b[0;36m2\u001b[0m\u001b[0;34m)\u001b[0m\u001b[0;34m)\u001b[0m\u001b[0;34m\u001b[0m\u001b[0;34m\u001b[0m\u001b[0m\n\u001b[1;32m      4\u001b[0m \u001b[0mplt\u001b[0m\u001b[0;34m.\u001b[0m\u001b[0maxvline\u001b[0m\u001b[0;34m(\u001b[0m\u001b[0mx\u001b[0m\u001b[0;34m=\u001b[0m\u001b[0;36m0\u001b[0m\u001b[0;34m,\u001b[0m\u001b[0mcolor\u001b[0m\u001b[0;34m=\u001b[0m\u001b[0;34m'lightgray'\u001b[0m\u001b[0;34m)\u001b[0m\u001b[0;34m\u001b[0m\u001b[0;34m\u001b[0m\u001b[0m\n\u001b[1;32m      5\u001b[0m \u001b[0mplt\u001b[0m\u001b[0;34m.\u001b[0m\u001b[0mfill_between\u001b[0m\u001b[0;34m(\u001b[0m\u001b[0mx\u001b[0m\u001b[0;34m/\u001b[0m\u001b[0;36m1000\u001b[0m\u001b[0;34m,\u001b[0m \u001b[0mdata\u001b[0m \u001b[0;34m-\u001b[0m \u001b[0mdata_sd\u001b[0m\u001b[0;34m,\u001b[0m \u001b[0mdata\u001b[0m \u001b[0;34m+\u001b[0m \u001b[0mdata_sd\u001b[0m\u001b[0;34m,\u001b[0m\u001b[0mcolor\u001b[0m\u001b[0;34m=\u001b[0m\u001b[0morange\u001b[0m\u001b[0;34m,\u001b[0m \u001b[0malpha\u001b[0m\u001b[0;34m=\u001b[0m\u001b[0;36m0.1\u001b[0m\u001b[0;34m)\u001b[0m\u001b[0;34m\u001b[0m\u001b[0;34m\u001b[0m\u001b[0m\n",
      "\u001b[0;31mNameError\u001b[0m: name 'np' is not defined"
     ]
    }
   ],
   "source": [
    "x = np.linspace(-40000,40000,100)\n",
    "\n",
    "fig=plt.figure(figsize=(7,2))\n",
    "plt.axvline(x=0,color='lightgray')\n",
    "plt.fill_between(x/1000, data - data_sd, data + data_sd,color=orange, alpha=0.1)\n",
    "plt.fill_between(x/1000, pred - pred_sd, pred + pred_sd, color=blue, alpha=0.1)\n",
    "plt.plot(x/1000, data, color=orange, label='Target predictions')\n",
    "plt.plot(x/1000, pred, '--',color=blue, label='Predictions with Cp')    \n",
    "plt.xlim([-35,35])\n",
    "plt.xlabel('Distance perpendicular to fault (km)')\n",
    "plt.ylabel('Surface displacement (m)')\n",
    "plt.show()\n",
    "fig.savefig('surface_disp_with_cp.pdf',format='pdf')"
   ]
  },
  {
   "cell_type": "code",
   "execution_count": null,
   "metadata": {},
   "outputs": [],
   "source": []
  }
 ],
 "metadata": {
  "kernelspec": {
   "display_name": "Python 3",
   "language": "python",
   "name": "python3"
  },
  "language_info": {
   "codemirror_mode": {
    "name": "ipython",
    "version": 3
   },
   "file_extension": ".py",
   "mimetype": "text/x-python",
   "name": "python",
   "nbconvert_exporter": "python",
   "pygments_lexer": "ipython3",
   "version": "3.6.10"
  }
 },
 "nbformat": 4,
 "nbformat_minor": 2
}
