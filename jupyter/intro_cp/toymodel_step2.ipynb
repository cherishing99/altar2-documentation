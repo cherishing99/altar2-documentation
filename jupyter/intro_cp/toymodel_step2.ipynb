{
 "cells": [
  {
   "cell_type": "markdown",
   "metadata": {},
   "source": [
    "# **AlTar 2 - a toy model with epistemic uncertainties**\n",
    "\n",
    "# **Step 2 - run AlTar2**\n",
    "\n",
    "This notebook follows the `step 1` notebook in which the input files for **AlTar2** have been prepared.\n",
    "\n",
    "As a reminder, we want to incorporate the epistemic uncertainties in our sampling process. To do so, we have prepared the configuration `test1.pfg` to update $\\mathbf{C}_\\mathrm{p}$ at every step of sampling procedure.\n",
    "Here are the input files for our toy model:\n",
    "- test1.gf.h5\n",
    "- test1d.h5\n",
    "- test1.Cd.h5\n",
    "- test1.Cov.h5\n",
    "- test1.mprior.h5\n",
    "- test1.KElastic.h5\n",
    "\n",
    "The *updated $\\mathbf{C}_\\mathrm{p}$* option is only "
   ]
  },
  {
   "cell_type": "code",
   "execution_count": null,
   "metadata": {},
   "outputs": [],
   "source": []
  }
 ],
 "metadata": {
  "kernelspec": {
   "display_name": "Python 3",
   "language": "python",
   "name": "python3"
  },
  "language_info": {
   "codemirror_mode": {
    "name": "ipython",
    "version": 3
   },
   "file_extension": ".py",
   "mimetype": "text/x-python",
   "name": "python",
   "nbconvert_exporter": "python",
   "pygments_lexer": "ipython3",
   "version": "3.6.10"
  }
 },
 "nbformat": 4,
 "nbformat_minor": 2
}
