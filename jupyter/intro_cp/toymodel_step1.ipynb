{
 "cells": [
  {
   "cell_type": "markdown",
   "metadata": {},
   "source": [
    "# **AlTar 2 - a toy model with epistemic uncertainties**\n",
    "\n",
    "# **Step 1 - prepare the input files**\n",
    "---\n",
    "### Understand the example: what do we want to do?\n",
    "\n",
    "We consider a simple 2.5 dimensional model of a strike-slip fault that extends infinitely along strike. Strike-perpendicular and vertical directions are respectively defined by the $\\mathbf{x}_1$ and $\\mathbf{x}_2$ axes, the free surface being the $(\\mathbf{x}_1$, $\\mathbf{x}_3)$ plane (see Figure 1). The displacement on the fault is restricted to the $\\mathbf{x}_3$ direction (i.e., along strike direction). Each surface displacement is calculated for a particular data point located at $x_1$ along the strike-perpendicular direction $\\mathbf{x}_1$ (and then for $x_2 = 0$).\n",
    "\n",
    "![Figure 1. ](intro_cp_fig.png)\n",
    "\n",
    "The aim of this example is to provide the **AlTar** input and configuration files to solve for a synthetic test which includes epistemic uncertainties. The synthetic observations will be calculated for a heterogeneous medium, in which the fault bounds two media of different shear moduli. The assumed Green's functions will be calculated in an homogeneous half space, thus inducing epistemic uncertainties in the inverse problem (because the assumed medium does not correspond to the one used to calculate the synthetic data). We will thus calculate the corresponding prediction covariance matrix $\\mathbf{C}_\\mathrm{p}$ to account for these epistemic uncertainties.\n",
    "\n",
    "In this example, we will:\n",
    "- Run through the calculation of a synthetic dataset, using analytical expressions\n",
    "- Calculate the Green's functions from analytical expressions, either for a homogeneous half space or for a heterogeneous medium.\n",
    "- Calculate the sensitivity kernels of the Green's functions from analytical expressions, and calculate the prediction covariance matrix\n",
    "\n",
    "The content is organized as follow:\n",
    "1. Setup of the Toy Model\n",
    "2. Calculate data and uncertainties for an heterogeneous medium\n",
    "    1. Calculate the data from analytical expressions\n",
    "    2. Calculate the data covariance matrix\n",
    "    3. Plot the data\n",
    "3. Calculate the Green's functions\n",
    "    1. Heterogeneous Green's functions\n",
    "    2. Homoegeneous Green's functions\n",
    "    3. Compare Homogeneous and heterogeneous Green's functions\n",
    "    4. Investigate the impact of the shear moduli ratio on Green's functions\n",
    "4. Calculate the Prediction Covariance Matrix\n",
    "    1. Calculate the seinsitivity kernels\n",
    "    2. Setup the covariance of the shear moduli and the initial slip model\n",
    "    3. Calculate the misfit covariance matrix\n",
    "5. Export **Altar** input files\n",
    "6. Write the `.pfg` configuration file for use with GPUs\n",
    "\n",
    "If you're not interested in the calculation of the synthetic dataset and Green's functions, you can jump directly to the sections where $\\mathbf{C}_\\mathrm{p}$, or where the **AlTar** configuration file is written.\n",
    "\n",
    "> *Note: if you have any troubles understanding the concepts presented here, please refer to the **Altar** User Guide.*\n",
    "\n",
    "> ***Note2: you can use [nbviewer](https://nbviewer.jupyter.org/) to interactively play with this notebook***\n",
    "\n",
    "\n",
    "### 1. Setup of the Toy Model\n",
    "\n",
    "We begin by importing the necessary modules"
   ]
  },
  {
   "cell_type": "code",
   "execution_count": 1,
   "metadata": {},
   "outputs": [],
   "source": [
    "import numpy as np\n",
    "import os\n",
    "import matplotlib\n",
    "import matplotlib.pyplot as plt\n",
    "import math\n",
    "import seaborn as sns\n",
    "import h5py\n",
    "import scipy\n",
    "import collections as col\n",
    "import mpmath"
   ]
  },
  {
   "cell_type": "markdown",
   "metadata": {},
   "source": [
    "Then, we can define a name for our future test:"
   ]
  },
  {
   "cell_type": "code",
   "execution_count": 2,
   "metadata": {},
   "outputs": [],
   "source": [
    "name = 'test1'"
   ]
  },
  {
   "cell_type": "markdown",
   "metadata": {},
   "source": [
    "Let's define the parameters of the fault geometry we will assume. These parameters are:"
   ]
  },
  {
   "cell_type": "code",
   "execution_count": 3,
   "metadata": {},
   "outputs": [],
   "source": [
    "length = 500000. # in km. The length is very long\n",
    "width = 10000.  # in km. The width of a vertical fault is the depth it reaches.\n",
    "nstrike = 1.  # subfault along strike\n",
    "ndip = 20  # subfaults along dip. Each subfault is thus of 500 m x 250 km\n",
    "strike = 0  # in degrees. It does not matter here\n",
    "dip = 90.  # in degrees. We want a vertical fault\n",
    "\n",
    "Np = int(ndip*nstrike*2)  # Np is the number of parameters of the model"
   ]
  },
  {
   "cell_type": "markdown",
   "metadata": {},
   "source": [
    "The parameters of the crustal structure are:"
   ]
  },
  {
   "cell_type": "code",
   "execution_count": 4,
   "metadata": {},
   "outputs": [],
   "source": [
    "mu1 = 2.0  # shear modulus on the West side of the fault\n",
    "mu2 = 5.0  # on the right side"
   ]
  },
  {
   "cell_type": "markdown",
   "metadata": {},
   "source": [
    "And the slip will be uniform on the fault, with no slip along dip. The slip along strike is:"
   ]
  },
  {
   "cell_type": "code",
   "execution_count": 5,
   "metadata": {},
   "outputs": [],
   "source": [
    "s = 10.0  # in m.\n",
    "d = width  # the slip is equall to s from 0 to depth d"
   ]
  },
  {
   "cell_type": "markdown",
   "metadata": {},
   "source": [
    "### 2. Calculate data and uncertainties for an heterogeneous medium\n",
    "\n",
    "#### 2.1 Calculate the data from analytical expressions\n",
    "\n",
    "Now, we want to define our data points `x`, which will be equally distributed along a line perpendicular to the fault direction (along the $\\mathbf{x}_1$ axis)."
   ]
  },
  {
   "cell_type": "code",
   "execution_count": 6,
   "metadata": {},
   "outputs": [],
   "source": [
    "x = np.linspace(-40000,40000,100)\n"
   ]
  },
  {
   "cell_type": "markdown",
   "metadata": {},
   "source": [
    "Following Segall (2010), we can derive the expression of the surface displacement produced by an infinitely long vertical strike-slip fault bounding two media of different shear modulus, $\\mu_1$ and $\\mu_2$. The slip $s$ on the fault extends from the free surface to depth $d$. We will refer to displacement $u^{(1)}$ on the side with modulus $\\mu_1$, and to displacement $u^{(2)}$ on the side with modulus $\\mu_2$.\n",
    "\\begin{equation}\n",
    "\\begin{split}\n",
    "u^{(1)}\\left(x_{1},  x_{2}=0\\right)=   \\frac{2 s}{\\pi} \\; \\frac{\\mu_2}{\\mu_1 + \\mu_2} \\; \\tan^{-1} \\biggr( \\frac{d}{x_{1}} \\biggr) \\\\\n",
    "u^{(2)}\\left(x_{1},  x_{2}=0\\right)=   \\frac{2 s}{\\pi} \\; \\frac{\\mu_1}{\\mu_1 + \\mu_2} \\; \\tan^{-1} \\biggr( \\frac{d}{x_{1}} \\biggr)\n",
    "\\end{split}\n",
    "\\end{equation}\n",
    "\n",
    "Note that the displacement is along $\\mathbf{x}_3$, is calculated at the free surface (so with $\\mathbf{x}_2$=0), and only depends on $\\mathbf{x}_1, the strike perpendicular direction.\n",
    "\n",
    "We can create a function to calculate the surface displacement follwing this expression, for a particular data point `x_i`:"
   ]
  },
  {
   "cell_type": "code",
   "execution_count": 7,
   "metadata": {},
   "outputs": [],
   "source": [
    "def calcSurfaceDispHet(x_i, s, d, mu1, mu2):\n",
    "    '''\n",
    "    Returns the surface displacement in meters.\n",
    "    '''\n",
    "    if x_i < 0:\n",
    "        u = ((2*s) / np.pi) * (mu2 / (mu1 + mu2)) * np.arctan(d / x_i)\n",
    "    else:\n",
    "        u = ((2*s) / np.pi) * (mu2 / (mu1 + mu2)) * np.arctan(d / x_i)\n",
    "    return float(u)"
   ]
  },
  {
   "cell_type": "markdown",
   "metadata": {},
   "source": [
    "Now, we are able to calculate the surface displacement associated with the slip `s` at every data point."
   ]
  },
  {
   "cell_type": "code",
   "execution_count": 8,
   "metadata": {},
   "outputs": [],
   "source": [
    "u_x3 = []\n",
    "for i in range(len(x)):\n",
    "    if x[i] == 0:\n",
    "        u_x3.append(0)\n",
    "    else:\n",
    "        u_x3.append( calcSurfaceDispHet(x[i], s, d, mu1, mu2) )"
   ]
  },
  {
   "cell_type": "markdown",
   "metadata": {},
   "source": [
    "We can also add noise to our data. We assume the noise to be approximately 2% of the maximum surface displacement.\n"
   ]
  },
  {
   "cell_type": "code",
   "execution_count": 9,
   "metadata": {},
   "outputs": [
    {
     "name": "stdout",
     "output_type": "stream",
     "text": [
      "noise amplitude (cm):  13.918456746377112\n"
     ]
    }
   ],
   "source": [
    "noise_amplitude = 0.02 * np.amax(u_x3)\n",
    "print(\"noise amplitude (cm): \", noise_amplitude*100)\n",
    "\n",
    "noise_type = 'no'\n",
    "\n",
    "if noise_type is 'uncorrelated':\n",
    "    noise = noise_amplitude*np.random.normal(0,1,len(u_x3))\n",
    "elif noise_type is 'correlated':\n",
    "    #### NOT SURE VERIFY\n",
    "    A = np.zeros((len(u_x3), len(u_x3)))\n",
    "    cov = [ [math.exp(- abs(i - j) / 200.) for i in range(len(u_x3))] for j in range(len(u_x3))]\n",
    "    w, v = np.linalg.eig(cov)\n",
    "    for i in range(len(u_x3)):\n",
    "        for j in range(len(u_x3)):\n",
    "            A[i, j] = sum(math.sqrt(w[k]) * v[i, k] * v[j, k] for k in range(len(u_x3)))\n",
    "    x2 = 0.5 * noise_amplitude * np.random.normal(0, 1, len(u_x3))\n",
    "    noiseuncorr = 0.5 * noise_amplitude * np.random.normal(0, 1, len(u_x3))\n",
    "    noise = np.dot(A, x2) + noiseuncorr\n",
    "elif noise_type is 'no':\n",
    "    noise = np.zeros(np.shape(u_x3))\n",
    "else:\n",
    "    print(\"Please define noise_type\")\n",
    "\n",
    "u_x3 += noise"
   ]
  },
  {
   "cell_type": "markdown",
   "metadata": {},
   "source": [
    "As input for **AlTar**, we also need to define the surface displacement along the axes $\\mathbf{x}_1$ (East) and $\\mathbf{x}_2$ (Up).\n"
   ]
  },
  {
   "cell_type": "code",
   "execution_count": 10,
   "metadata": {},
   "outputs": [],
   "source": [
    "u_x1 = np.zeros(np.shape(u_x3))\n",
    "u_x2 = np.zeros(np.shape(u_x3))"
   ]
  },
  {
   "cell_type": "markdown",
   "metadata": {},
   "source": [
    "And we prepare for use with **Altar** a vector `u` witch containes the displacements along East direction, along North, and the Vertical displacements."
   ]
  },
  {
   "cell_type": "code",
   "execution_count": 11,
   "metadata": {},
   "outputs": [
    {
     "name": "stdout",
     "output_type": "stream",
     "text": [
      "Number of data:  300\n"
     ]
    }
   ],
   "source": [
    "u = np.concatenate( (u_x1, u_x3, u_x2), axis=0 )\n",
    "print(\"Number of data: \",len(u))"
   ]
  },
  {
   "cell_type": "markdown",
   "metadata": {},
   "source": [
    "#### 2.2 Calculate the data covariance matrix $\\mathbf{C}_\\mathrm{d}$\n",
    "\n",
    "In this simple case, we assume that there is no covariance between the data points, and that their variance is uniform."
   ]
  },
  {
   "cell_type": "code",
   "execution_count": 12,
   "metadata": {},
   "outputs": [],
   "source": [
    "var_u = (0.05 * np.amax(u_x3))**2\n",
    "Cd = np.diag( var_u * np.ones(np.shape(u)) )"
   ]
  },
  {
   "cell_type": "markdown",
   "metadata": {},
   "source": [
    "#### 2.3 Plot the data\n",
    "\n",
    "Let's plot the calculated surface displacement and its uncertainties in fonction of the distance from the fault:"
   ]
  },
  {
   "cell_type": "code",
   "execution_count": 13,
   "metadata": {},
   "outputs": [
    {
     "data": {
      "image/png": "[encoded data removed]",
      "text/plain": [
       "<Figure size 1080x288 with 1 Axes>"
      ]
     },
     "metadata": {
      "needs_background": "light"
     },
     "output_type": "display_data"
    }
   ],
   "source": [
    "fig=plt.figure(figsize=(15,4))\n",
    "plt.axvline(x=0,color='lightgray')\n",
    "plt.fill_between(x/1000, u_x3 - np.sqrt(var_u), u_x3 + np.sqrt(var_u),color='teal', alpha=0.2)\n",
    "plt.plot(x/1000, u_x3,color='teal',label='Target predictions')\n",
    "plt.xlim([-35,35])\n",
    "plt.xlabel('Distance perpendicular to fault (km)')\n",
    "plt.ylabel('Surface displacement (m)')\n",
    "plt.legend()\n",
    "plt.show()"
   ]
  },
  {
   "cell_type": "markdown",
   "metadata": {},
   "source": [
    "### 3. Calculate the Green's functions\n",
    "\n",
    "#### 3.1 Heterogeneous Green's functions\n",
    "\n",
    "From the expressions of the surface displacement presented above, we can derive the expression of the Green's functions and their derivatives. The Green's functions are the surface displacement induced by a unit slip on one subfault. We will consider a subfault $f_i$ of width $\\delta d = d_{i+1} - d_i$, $d_{i+1} \\ge d_i$. The Green's function $G(x_j, f_i)$ can be expressed as the difference between the surface displacement due to a finite dislocation between the free surface and depth $d_{i+1}$, and another finite dislocation between the free surface and depth $d_{i}$.\n",
    "\n",
    "For an infinitely long vertical strike-slip fault bounding two media of different shear modulus, $\\mu_1$ and $\\mu_2$, we thus have:\n",
    "\n",
    "\\begin{equation}\n",
    "\\begin{split}\n",
    "\\mathbf{G}_v^{(1)}(x_j, f_i)  = u_v^{(1)}(x_{j}, d_{i+1}) - u_v^{(1)}(x_{j}, d_{i}) \\\\\n",
    "\\mathbf{G}_v^{(2)}(x_j, f_i)  = u_v^{(2)}(x_{j}, d_{i+1}) - u_v^{(2)}(x_{j}, d_{i})\n",
    "\\end{split}\n",
    "\\end{equation}\t\n",
    "\n",
    "\\begin{equation}\n",
    "\\begin{split}\n",
    "\\mathbf{G}_v^{(1)}(x_j, f_i) = \\frac{2}{\\pi} \\; \\frac{\\mu_2}{\\mu_1 + \\mu_2} \\; \\biggr[ \\tan^{-1} \\biggr( \\frac{d_{i+1}}{x_{j}} \\biggr) - \\tan^{-1} \\biggr( \\frac{d_{i}}{x_{j}} \\biggr) \\biggr] \\\\\n",
    "\\mathbf{G}_v^{(2)}(x_j, f_i) = \\frac{2}{\\pi} \\; \\frac{\\mu_1}{\\mu_1 + \\mu_2} \\; \\biggr[ \\tan^{-1} \\biggr( \\frac{d_{i+1}}{x_{j}} \\biggr) - \\tan^{-1} \\biggr( \\frac{d_{i}}{x_{j}} \\biggr) \\biggr] \n",
    "\\end{split}\n",
    "\\end{equation}\t"
   ]
  },
  {
   "cell_type": "code",
   "execution_count": 14,
   "metadata": {},
   "outputs": [],
   "source": [
    "def calcGFhet(x, mu1, mu2, width, ndip):\n",
    "    '''\n",
    "    Returns the GFs in meters\n",
    "    '''\n",
    "    d = np.linspace(0.,width,ndip+1)\n",
    "    G1 = np.zeros((len(x)//2,len(d)-1))\n",
    "    G2 = np.zeros((len(x)//2,len(d)-1))\n",
    "    for j in range(len(x)//2):\n",
    "        for i in range(0,len(d)-1):\n",
    "            G1[j,i] = (2/np.pi) *  (mu2/(mu1+mu2)) * ( mpmath.atan(d[i+1]/x[j]) - mpmath.atan(d[i]/x[j]) )\n",
    "    for j in range(len(x)//2,len(x)):\n",
    "        for i in range(0,len(d)-1):\n",
    "            G2[j-len(x)//2,i] = (2/np.pi) *  (mu1/(mu1+mu2)) * ( mpmath.atan(d[i+1]/x[j]) - mpmath.atan(d[i]/x[j]) )\n",
    "    Gv = np.vstack((G1,G2))\n",
    "    return Gv\n",
    "\n",
    "## For the strike-slip component and the x3 (North) direction:\n",
    "Gv_ss_x3 = calcGFhet(x, mu1, mu2, width, ndip)\n",
    "\n",
    "## For the strike-slip component and the other directions:\n",
    "Gv_ss_x1 = np.zeros( np.shape(Gv_ss_x3) )\n",
    "Gv_ss_x2 = np.zeros( np.shape(Gv_ss_x3) )\n",
    "\n",
    "## Full GFs for the strike-slip direction\n",
    "Gv_ss = np.concatenate( (Gv_ss_x1, Gv_ss_x3, Gv_ss_x2), axis = 0)\n",
    "\n",
    "## dip-slip direction:\n",
    "Gv_ds = np.zeros( np.shape(Gv_ss) )\n",
    "\n",
    "## Full GFs\n",
    "Gv = np.concatenate( (Gv_ss, Gv_ds), axis = 0)"
   ]
  },
  {
   "cell_type": "markdown",
   "metadata": {},
   "source": [
    "#### 3.2 Homogeneous Green's Functions\n",
    "\n",
    "As for the heterogeneous case, the expression of the surface displacement for an infinite strike slip fault breaking the surface and embedded in a homogeneous half space is (Segall, 2010):\n",
    "\\begin{equation}\n",
    "u_h(x_2=0) = - \\frac{s}{\\pi} \\tan^{-1} \\left( \\frac{x}{x_1} \\right)\n",
    "\\end{equation}\n",
    "\n",
    "> *Note that this displacement is similar to the heterogeneous case for $\\mu_1 = \\mu_2$.*\n",
    "\n",
    "We can then derive the expression of the Green's Functions:\n",
    "\\begin{equation}\n",
    "\\mathbf{G}_h(x_j, f_i) = \\frac{2}{\\pi} \\; \\biggr[ \\tan^{-1} \\biggr( \\frac{d_{i+1}}{x_{j}} \\biggr) - \\tan^{-1} \\biggr( \\frac{d_{i}}{x_{j}} \\biggr) \\biggr] \\\\\n",
    "\\end{equation}\t"
   ]
  },
  {
   "cell_type": "code",
   "execution_count": 15,
   "metadata": {},
   "outputs": [],
   "source": [
    "def calcGFhom(x, width, ndip):\n",
    "    '''\n",
    "    Returns the GFs in meters\n",
    "    '''\n",
    "    d = np.linspace(0.,width,ndip+1)\n",
    "    Gh = np.zeros((len(x),len(d)-1))\n",
    "    for j in range(len(x)):\n",
    "        for i in range(0,len(d)-1):\n",
    "            Gh[j,i] = (1/np.pi) *  ( mpmath.atan(d[i+1]/x[j]) - mpmath.atan(d[i]/x[j]) )\n",
    "    return Gh"
   ]
  },
  {
   "cell_type": "code",
   "execution_count": 16,
   "metadata": {},
   "outputs": [],
   "source": [
    "## For the strike-slip component and the x3 (North) direction, homogeneous case:\n",
    "Gh_ss_x3 = calcGFhom(x, width, ndip)\n",
    "\n",
    "## And similarly to the previous case:\n",
    "Gh_ss_x1 = np.zeros( np.shape(Gh_ss_x3) )\n",
    "Gh_ss_x2 = np.zeros( np.shape(Gh_ss_x3) )\n",
    "Gh_ss = np.concatenate( (Gh_ss_x1, Gh_ss_x3, Gh_ss_x2), axis = 0)\n",
    "Gh_ds = np.zeros( np.shape(Gh_ss) )\n",
    "Gh = np.concatenate( (Gh_ss, Gh_ds), axis = 0)"
   ]
  },
  {
   "cell_type": "markdown",
   "metadata": {},
   "source": [
    "#### 3.3 Compare the homogeneous and heterogeneous Green's functions:\n",
    "\n",
    "For the shallowest and the deepest sub-faults, we compare the homogeneous and heterogeneous Green's functions (we thus compare the surface displacement induced by a unit slip on each of these subfaults):"
   ]
  },
  {
   "cell_type": "code",
   "execution_count": 17,
   "metadata": {},
   "outputs": [
    {
     "data": {
      "image/png": "[encoded data removed]",
      "text/plain": [
       "<Figure size 1080x288 with 1 Axes>"
      ]
     },
     "metadata": {
      "needs_background": "light"
     },
     "output_type": "display_data"
    }
   ],
   "source": [
    "fig=plt.figure(figsize=(15,4))\n",
    "plt.axvline(x=0,color='lightgray')\n",
    "plt.plot(x/1000, Gh_ss_x3[:,0],color='teal',label='Shallowest subfault, homogeneous GFs')\n",
    "plt.plot(x/1000, Gh_ss_x3[:,-1],'--',color='teal',label='Deepest subfault, homogeneous GFs')\n",
    "plt.plot(x/1000, Gv_ss_x3[:,0],color='orange',label='Shallowest subfault, heterogeneous GFs')\n",
    "plt.plot(x/1000, Gv_ss_x3[:,-1],'--',color='orange',label='Deepest subfault, heterogeneous GFs')\n",
    "plt.xlim([-20,20])\n",
    "plt.xlabel('Distance perpendicular to fault (km)')\n",
    "plt.ylabel('Surface displacement (m)')\n",
    "plt.legend()\n",
    "plt.show()"
   ]
  },
  {
   "cell_type": "markdown",
   "metadata": {},
   "source": [
    "#### 3.4 Investigate the impact of the shear moduli ratio on Green's functions\n",
    "\n",
    "We can also investigate the impact of a variation of the shear moduli ratio ($\\mu_2/\\mu_1$) on the Green's functions. We calculate the Green's functions for a range of different $\\mu_1$ and look at the evolution of the GFs for the shallowest and deepest subfaults:"
   ]
  },
  {
   "cell_type": "code",
   "execution_count": 18,
   "metadata": {},
   "outputs": [
    {
     "data": {
      "image/png": "[encoded data removed]",
      "text/plain": [
       "<Figure size 1080x864 with 4 Axes>"
      ]
     },
     "metadata": {
      "needs_background": "light"
     },
     "output_type": "display_data"
    }
   ],
   "source": [
    "gfs = []\n",
    "for mu_i in np.linspace(1.,8.,16.):\n",
    "    gfs.append(calcGFhet(x, mu_i, mu2, width, ndip))\n",
    "\n",
    "fig = plt.figure(figsize=(15,12))\n",
    "fig.add_subplot(2,1,1)\n",
    "ax = sns.heatmap(np.array(gfs)[:,:,0],cmap='inferno_r',\n",
    "            linewidths=.0, rasterized=True,xticklabels=False, \n",
    "            cbar_kws={'label': 'Green\\'s function'})\n",
    "plt.ylabel('$\\mu_1/\\mu_2$ steps')\n",
    "plt.title('Shallowest subfault')\n",
    "\n",
    "fig.add_subplot(2,1,2)\n",
    "ax = sns.heatmap(np.array(gfs)[:,:,-1],cmap='inferno_r',\n",
    "            linewidths=.0, rasterized=True, \n",
    "            cbar_kws={'label': 'Green\\'s function'})\n",
    "plt.ylabel('$\\mu_1/\\mu_2$ steps')\n",
    "plt.xlabel('Distance perpendicular to fault (km) - from Easternmost data point')\n",
    "plt.title('Deepest subfault')\n",
    "plt.show()"
   ]
  },
  {
   "cell_type": "markdown",
   "metadata": {},
   "source": [
    "### 4. Calculate the Prediction Covariance Matrix $\\mathbf{C}_\\mathrm{p}$\n",
    "\n",
    "#### 4.1 Calculate the sensitivity Kernels for $\\mu_1$ and $\\mu_2$\n",
    "\n",
    "We can then derive the expressions of the sensitivity kernels of the Green's functions with respect to each shear modulus. As the shear modulus $\\mu$ is a Jeffrey's parameter \\citep[e.g.,][]{tarantola_2005}, the generic expression of the sensitivity kernels is:\n",
    "\n",
    "\\begin{equation}\n",
    "\\mathbf{K_{\\mu}}(x_j, f_i) = \\frac{\\partial \\; \\mathbf{G}(x_j, f_i)}{\\partial \\ln  \\mu} = \\frac{\\partial \\; \\mathbf{G}(x_j, f_i)}{\\partial \\mu} \\cdot \\mu.\n",
    "\\end{equation}\t\n",
    "\n",
    "We thus have:\n",
    "\\begin{equation}\n",
    "\\begin{split}\n",
    "{}& \\mathbf{K_{v, \\mu_1}}^{(1)}(x_j, f_i) = - \\frac{2}{\\pi} \\; \\frac{\\mu_2 \\cdot \\mu_1}{(\\mu_1 + \\mu_2)^{2}} \\; \\biggr[ \\tan^{-1} \\biggr( \\frac{d_{i+1}}{x_{j}} \\biggr) - \\tan^{-1} \\biggr( \\frac{d_{i}}{x_{j}} \\biggr) \\biggr] \\\\\n",
    "& \\mathbf{K_{v, \\mu_1}}^{(2)}(x_j, f_i) = \\frac{2}{\\pi} \\; \\frac{{\\mu_1}^2}{(\\mu_1 + \\mu_2)^{2}} \\; \\biggr[ \\tan^{-1} \\biggr( \\frac{d_{i+1}}{x_{j}} \\biggr) - \\tan^{-1} \\biggr( \\frac{d_{i}}{x_{j}} \\biggr) \\biggr] \n",
    "\\label{vertk1}\n",
    "\\end{split}\n",
    "\\end{equation}\n",
    "\n",
    "\\begin{equation}\n",
    "\\begin{split}\n",
    "{}& \\mathbf{K_{v, \\mu_2}}^{(1)}(x_j, f_i) = \\frac{2}{\\pi} \\; \\frac{{\\mu_2}^2}{(\\mu_1 + \\mu_2)^{2}} \\; \\biggr[ \\tan^{-1} \\biggr( \\frac{d_{i+1}}{x_{j}} \\biggr) - \\tan^{-1} \\biggr( \\frac{d_{i}}{x_{j}} \\biggr) \\biggr] \\\\\n",
    "& \\mathbf{K_{v, \\mu_2}}^{(2)}(x_j, f_i) = - \\frac{2}{\\pi} \\; \\frac{{\\mu_1} \\cdot \\mu_2 }{(\\mu_1 + \\mu_2)^{2}} \\; \\biggr[ \\tan^{-1} \\biggr( \\frac{d_{i+1}}{x_{j}} \\biggr) - \\tan^{-1} \\biggr( \\frac{d_{i}}{x_{j}} \\biggr) \\biggr]\n",
    "\\label{vertk2}\n",
    "\\end{split}\n",
    "\\end{equation}\t"
   ]
  },
  {
   "cell_type": "code",
   "execution_count": 19,
   "metadata": {},
   "outputs": [],
   "source": [
    "def calcKhet(x, mu1, mu2, width, ndip):\n",
    "    d = np.linspace(0.,width,ndip+1)\n",
    "    Kv11 = np.zeros((len(x)//2,len(d)-1))  # 1 for mu, 1 for half space\n",
    "    Kv12 = np.zeros((len(x)//2,len(d)-1))  # 1 for mu, 2 for half space\n",
    "    Kv21 = np.zeros((len(x)//2,len(d)-1))  # 2 for mu, 1 for half space\n",
    "    Kv22 = np.zeros((len(x)//2,len(d)-1))  # 2 for mu, 2 for half space\n",
    "    # half with u1 (1)\n",
    "    for j in range(len(x)//2):\n",
    "        for i in range(0,len(d)-1):\n",
    "            Kv11[j, i] = - (2 / np.pi) * ((mu2 * mu1) / (mu1 + mu2) ** 2) * (\n",
    "                        mpmath.atan(d[i + 1] / x[j]) - mpmath.atan(d[i] / x[j]))\n",
    "            Kv12[j, i] = (2 / np.pi) * ((mu1 ** 2) / (mu1 + mu2) ** 2) * (\n",
    "                        mpmath.atan(d[i + 1] / x[j]) - mpmath.atan(d[i] / x[j]))\n",
    "    # half with u2 (2)\n",
    "    for j in range(len(x)//2,len(x)):\n",
    "        for i in range(0,len(d)-1):\n",
    "            Kv21[j-len(x)//2, i] = (2 / np.pi) * ((mu2**2) / (mu1 + mu2) ** 2) * (\n",
    "                        mpmath.atan(d[i + 1] / x[j]) - mpmath.atan(d[i] / x[j]))\n",
    "            Kv22[j-len(x)//2, i] = -  (2 / np.pi) * ((mu1 * mu2) / (mu1 + mu2) ** 2) * (\n",
    "                        mpmath.atan(d[i + 1] / x[j]) - mpmath.atan(d[i] / x[j]))\n",
    "    Kv1 = np.vstack((Kv11,Kv21)) # Kernel for mu1\n",
    "    Kv2 = np.vstack((Kv12,Kv22)) # Kernel for mu2\n",
    "    K = [Kv1]\n",
    "    K.append(Kv2)\n",
    "    return K\n",
    "\n",
    "K = calcKhet(x, mu2, mu1, width, ndip)"
   ]
  },
  {
   "cell_type": "markdown",
   "metadata": {},
   "source": [
    "#### 4.2 Setup the covariance of the shear moduli and the initial slip model\n",
    "\n",
    "> *Note that here, we assume an initial model that is different from the target slip model*"
   ]
  },
  {
   "cell_type": "code",
   "execution_count": 20,
   "metadata": {},
   "outputs": [],
   "source": [
    "Cov = np.diag( 0.1 * np.ones(np.shape(K)[0]))\n",
    "inimodel = (s/2) * np.ones((Np//2,)) # only for the strike-slip components!"
   ]
  },
  {
   "cell_type": "markdown",
   "metadata": {},
   "source": [
    "#### 4.3 Calculate $\\mathbf{C}_\\mathrm{\\chi}$\n",
    "\n",
    "One option when including $\\mathbf{C}_\\mathrm{p}$ in **AlTar** is to incorporate it directly in the misfit covariance matrix $\\mathbf{C}_\\mathrm{\\chi}$ (see **User Guide, section Epistemic Uncertainties**). "
   ]
  },
  {
   "cell_type": "code",
   "execution_count": 21,
   "metadata": {},
   "outputs": [],
   "source": [
    "def calcCp(K,Cov,mprior):\n",
    "    '''\n",
    "    K : tensor of kernels\n",
    "    Cov : covariance matrix (array)\n",
    "    mprior : array\n",
    "    '''\n",
    "    k = np.transpose(np.matmul(K, mprior))\n",
    "    C1 = np.matmul(k, Cov)\n",
    "    Cp = np.matmul(C1, np.transpose(k))\n",
    "    return Cp\n",
    "\n",
    "Cp_x3 = calcCp(K,Cov,inimodel)"
   ]
  },
  {
   "cell_type": "markdown",
   "metadata": {},
   "source": [
    "We have calculated $\\mathbf{C}_\\mathrm{p}$ for the $\\mathbf{x}_3$ component only. The full matrix is:"
   ]
  },
  {
   "cell_type": "code",
   "execution_count": 22,
   "metadata": {},
   "outputs": [],
   "source": [
    "Cp = np.block([[ np.zeros(np.shape(Cp_x3)) ,  np.zeros(np.shape(Cp_x3)), np.zeros(np.shape(Cp_x3)) ],\n",
    "               [ np.zeros(np.shape(Cp_x3)) ,         Cp_x3             , np.zeros(np.shape(Cp_x3)) ],\n",
    "               [ np.zeros(np.shape(Cp_x3)) ,  np.zeros(np.shape(Cp_x3)), np.zeros(np.shape(Cp_x3)) ]])\n",
    "\n",
    "Cx = Cp + Cd"
   ]
  },
  {
   "cell_type": "markdown",
   "metadata": {},
   "source": [
    "The other option is to recalculate $\\mathbf{C}_\\mathrm{p}$ at every step of the sampling process. In this case, AlTar needs as distinct input files: the sensitivity kernels, the covariance matrix, and the initial model.\n",
    "\n",
    "### 5. Export input files for **AlTar**\n",
    "\n",
    "First, we export the synthetic dataset and related uncertainties, and the homogeneous Green's functions."
   ]
  },
  {
   "cell_type": "code",
   "execution_count": 23,
   "metadata": {},
   "outputs": [],
   "source": [
    "with h5py.File(name+'.d.h5', 'w') as hf:\n",
    "    hf.create_dataset('data', data=u)\n",
    "\n",
    "with h5py.File(name+'.Cd.h5', 'w') as hf:\n",
    "    hf.create_dataset('data errors', data=Cd)\n",
    "\n",
    "with h5py.File(name+'.gf.h5', 'w') as hf:\n",
    "    hf.create_dataset('GFs', data=Gh_ss)    ## in this case the only estimated parameters will be the strike-slip components"
   ]
  },
  {
   "cell_type": "markdown",
   "metadata": {},
   "source": [
    "Now we can export either $\\mathbf{C}_\\mathrm{\\chi}$ (that will replace $\\mathbf{C}_\\mathrm{d}$), or the other files for the second option:"
   ]
  },
  {
   "cell_type": "code",
   "execution_count": 24,
   "metadata": {},
   "outputs": [],
   "source": [
    "with h5py.File(name+'.Cx.h5', 'w') as hf:\n",
    "    hf.create_dataset('misfit covariance', data=Cx)\n",
    "\n",
    "with h5py.File(name+'.KElastic.h5', 'w') as hf:\n",
    "    for i in range(np.shape(K)[0]):\n",
    "        hf.create_dataset('K'+str(i), data=K[i])\n",
    "\n",
    "with h5py.File(name+'.mprior.h5', 'w') as hf:\n",
    "    hf.create_dataset('mprior', data=inimodel)\n",
    "\n",
    "with h5py.File(name+'.Cov.h5', 'w') as hf:\n",
    "    hf.create_dataset('Cp covariance', data=Cov)"
   ]
  },
  {
   "cell_type": "markdown",
   "metadata": {},
   "source": [
    "### 6. Create the `test1.pfg` configuration file\n",
    "\n",
    "First, we print some values to help use fill in the `test1.pfg` file:"
   ]
  },
  {
   "cell_type": "code",
   "execution_count": 25,
   "metadata": {},
   "outputs": [
    {
     "name": "stdout",
     "output_type": "stream",
     "text": [
      "patches =  20\n",
      "observations =  300\n",
      "GFs =  (300, 20)\n",
      "Mw =  8.084060839370455\n",
      "patches area =  250000000.0\n"
     ]
    }
   ],
   "source": [
    "print('patches = ', Np//2)\n",
    "print('observations = ', len(u))\n",
    "print('GFs = ',np.shape(Gh_ss))  ## reminder: only the strike-slip components here!\n",
    "\n",
    "## calculate moment M0 and Mw to add a prior constraint on the slip value during the sampling process.\n",
    "## mu S D *20 subfaults * 10**7 to convert to dyn.cm\n",
    "area = (width/ndip)*(length/nstrike)\n",
    "M0 = 3.0*10**10 * 20*area * s * 10**7\n",
    "Mw = (2./3.) * np.log10(M0) -10.7\n",
    "print('Mw = ', Mw)\n",
    "print('patches area = ', area)"
   ]
  },
  {
   "cell_type": "markdown",
   "metadata": {},
   "source": [
    "The *updated $\\mathbf{C}_\\mathrm{p}$* option is currently only working on GPUs. Here, we thus prepare the configuration file to run **AlTar2** with:\n",
    "- the *updated $\\mathbf{C}_\\mathrm{p}$* option\n",
    "- a preparation distribution to initialize samples based on the seismic moment\n",
    "- a Gaussian prior distribution centered on the target slip\n",
    "- for use with GPUs\n",
    "\n",
    "The `test1.pfg` file will thus look like (see the commented figure after for detailed explanations):\n",
    "\n",
    "        ;\n",
    "        ; (c) 2013-2019 parasim inc\n",
    "        ; (c) 2010-2019 california institute of technology\n",
    "        ; all rights reserved\n",
    "        ;\n",
    "        ; Author(s): Lijun Zhu\n",
    "\n",
    "        ; the static uoᴉsɹǝʌuᴉ with Cp example\n",
    "        slipmodel:\n",
    "\n",
    "            model = altar.models.seismic.cuda.static\n",
    "            model:\n",
    "\n",
    "                ; the name of the test case\n",
    "                case = config\n",
    "\n",
    "                ; number of patches\n",
    "                patches = 20\n",
    "\n",
    "                ; green's function (observations, parameters)\n",
    "                green = test1.gf.h5\n",
    "\n",
    "                dataobs = altar.cuda.data.datal2\n",
    "                dataobs:\n",
    "                    observations = 300\n",
    "                    data_file = test1.d.h5\n",
    "                    cd_file = test1.cd.h5\n",
    "\n",
    "                ; sensitivity kernels\n",
    "                nCmu = 2\n",
    "                cmu_file = test1.Cov.h5\n",
    "                kmu_file = test1.KElastic.h5\n",
    "                initial_model_file = test1.inimodel.h5\n",
    "\n",
    "                beta_cp_start = 0.01\n",
    "                beta_use_initial_model = 1\n",
    "\n",
    "                ; list of parameterset (also used as the order parameters in theta)\n",
    "                psets_list = [strikeslip]\n",
    "\n",
    "                ; define parametersets\n",
    "                psets:\n",
    "                    strikeslip = altar.cuda.models.parameterset\n",
    "\n",
    "                    strikeslip:\n",
    "                        count = {slipmodel.model.patches}\n",
    "                        prep = altar.models.seismic.cuda.moment\n",
    "                        prep:\n",
    "                            support = (0., 20.) ; slip range\n",
    "                            Mw_mean = 8.08\n",
    "                            Mw_sigma = 0.3\n",
    "                            Mu = [30] ; in GPa\n",
    "                            area = [250000000.0] ; patch area in m2\n",
    "                        prior = altar.cuda.distributions.gaussian\n",
    "                        prior.mean = 10.\n",
    "                        prior.sigma = 3.\n",
    "\n",
    "\n",
    "            controller:\n",
    "                sampler = altar.cuda.bayesian.metropolis\n",
    "                archiver:\n",
    "                    output_dir = results/test1/ ; output directory\n",
    "                    output_freq = 10 ; output frequency in beta steps\n",
    "\n",
    "            monitors:\n",
    "                ; profiling\n",
    "                prof = altar.bayesian.profiler\n",
    "\n",
    "            ; run configuration\n",
    "            job.tasks = 1 ; number of tasks per host\n",
    "            job.gpus = 1  ; number of gpus per task\n",
    "            job.gpuprecision = float32 ; double(float64) or single(float32) precision for gpu computations\n",
    "            job.gpuids = [1] ; a list gpu device ids for tasks on each host, default range(job.gpus)\n",
    "            job.chains = 1000 ; number of chains per task\n",
    "            job.steps = 1000 ; MC burn-in steps for each beta step\n",
    "\n",
    "            ; shell\n",
    "            shell = mpi.shells.mpirun ; for running with mpi\n",
    "\n",
    "\n",
    "        ; for parallel runs\n",
    "        mpi.shells.mpirun # altar.plexus.shell:\n",
    "            extra = -mca btl self,tcp\n",
    "\n",
    "        ; end of file\n"
   ]
  },
  {
   "cell_type": "markdown",
   "metadata": {},
   "source": [
    "![Figure 2. ](commented_pfg.png)"
   ]
  },
  {
   "cell_type": "code",
   "execution_count": null,
   "metadata": {},
   "outputs": [],
   "source": []
  }
 ],
 "metadata": {
  "kernelspec": {
   "display_name": "Python 3",
   "language": "python",
   "name": "python3"
  },
  "language_info": {
   "codemirror_mode": {
    "name": "ipython",
    "version": 3
   },
   "file_extension": ".py",
   "mimetype": "text/x-python",
   "name": "python",
   "nbconvert_exporter": "python",
   "pygments_lexer": "ipython3",
   "version": "3.6.10"
  }
 },
 "nbformat": 4,
 "nbformat_minor": 1
}
